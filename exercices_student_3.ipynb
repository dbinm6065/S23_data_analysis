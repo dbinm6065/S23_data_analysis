{
 "cells": [
  {
   "cell_type": "markdown",
   "id": "0b45c729-fd32-469b-bed8-904f474f4ad7",
   "metadata": {},
   "source": [
    "# Data Analysis and Data Science\n",
    "## Putting it all together \n",
    "\n",
    "By: Caroline Labelle\n",
    "<br>For: BCM6065-65\n",
    "\n",
    "<br>\n",
    "Date: Date: July 6th, 2023\n",
    "\n",
    "<hr style=\"border:1px solid black\"> </hr>"
   ]
  },
  {
   "cell_type": "code",
   "execution_count": null,
   "id": "9896c6bc-653b-4958-b21a-c97e02f0d3fa",
   "metadata": {},
   "outputs": [],
   "source": [
    "### Student Name: "
   ]
  },
  {
   "cell_type": "markdown",
   "id": "66323439-c98c-4e75-b791-73df2eb3efb1",
   "metadata": {},
   "source": [
    "Complete the following exercises and push your Notebook to your GitHum account. You have until July 7th, 5PM to submit your GitHub account URL to StudiUM."
   ]
  },
  {
   "cell_type": "code",
   "execution_count": null,
   "id": "a150bdde-ae13-4ea0-b60e-923f8730bc6a",
   "metadata": {},
   "outputs": [],
   "source": [
    "### Import sklearn\n",
    "import sklearn.decomposition, sklearn.cluster\n",
    "\n",
    "### Import scipy\n",
    "import scipy as sp\n",
    "\n",
    "### Import pandas, numpy, seaborn and matplotlib.pyplot\n",
    "import pandas as pd\n",
    "import numpy as np\n",
    "import seaborn as sns"
   ]
  },
  {
   "cell_type": "code",
   "execution_count": null,
   "id": "63f6b3ea-75e0-433d-ae8a-0b61a8a7f220",
   "metadata": {},
   "outputs": [],
   "source": [
    "sns.set(rc={'figure.figsize':(4, 2)})\n",
    "sns.set_theme(context=\"notebook\", style=\"white\", palette=\"Set2\")"
   ]
  },
  {
   "cell_type": "markdown",
   "id": "8a4327d5-e0b6-470f-961f-2ce0215c82b9",
   "metadata": {},
   "source": [
    "# Breast Cancer Subtypes Analysis [50 pts]\n",
    "\n",
    "You are given a gene expression dataset of N breast cancer patients with their clinical subtype. You wish to know if you can assess the clinical subtypes based on the gene expression."
   ]
  },
  {
   "cell_type": "markdown",
   "id": "6f953a15-6ddf-4a1d-a97d-39299d94b3a7",
   "metadata": {},
   "source": [
    "## Import the data [10 pts]\n",
    "\n",
    "Your dataset concist of three files: `genes_id.txt`, `patient_subtype.txt` and `patient_expression.txt`. Import the various files and build your dataset daframe."
   ]
  },
  {
   "cell_type": "code",
   "execution_count": null,
   "id": "5b1ea372-068c-453e-a926-d931798e2282",
   "metadata": {},
   "outputs": [],
   "source": [
    "### Import the files\n"
   ]
  },
  {
   "cell_type": "code",
   "execution_count": null,
   "id": "c06d5645-f306-4555-9345-894cfd47eb6e",
   "metadata": {},
   "outputs": [],
   "source": [
    "### How many patients are you considering?\n",
    "print(, \"patients\")\n",
    "\n",
    "### How many genes are you considering?\n",
    "print(, \"genes\")"
   ]
  },
  {
   "cell_type": "code",
   "execution_count": null,
   "id": "aafbf631-12a1-43a5-836e-5bc82bd80ed8",
   "metadata": {},
   "outputs": [],
   "source": [
    "### Combine the data from all three files into one dataframe\n",
    "### Clue: you should define columns' names and add a column\n"
   ]
  },
  {
   "cell_type": "markdown",
   "id": "c92b891a-0b97-4192-b953-0443c80765fc",
   "metadata": {},
   "source": [
    "## Explore the dataset [20 pts]"
   ]
  },
  {
   "cell_type": "code",
   "execution_count": null,
   "id": "91361b10-1623-420d-8c45-fda2c6f40690",
   "metadata": {},
   "outputs": [],
   "source": [
    "### How many subtypes are you considering?\n",
    "print(, \"subtypes\")"
   ]
  },
  {
   "cell_type": "code",
   "execution_count": null,
   "id": "a20e5d99-76eb-4ec7-9800-d06d41887ea7",
   "metadata": {},
   "outputs": [],
   "source": [
    "### How many patients are associtated to each subtype?\n"
   ]
  },
  {
   "cell_type": "code",
   "execution_count": null,
   "id": "69c59a4c-afff-4f1f-bf42-2ef0e2703cd9",
   "metadata": {},
   "outputs": [],
   "source": [
    "### Generate a graph of the average expression of each gene.\n"
   ]
  },
  {
   "cell_type": "code",
   "execution_count": null,
   "id": "0e860772-bc93-46ab-983e-b0ee3c411410",
   "metadata": {},
   "outputs": [],
   "source": [
    "### What are the two genes with the largest standard deviation for all patient\n"
   ]
  },
  {
   "cell_type": "code",
   "execution_count": null,
   "id": "b81be662-bcea-422a-8975-f8abe60d7132",
   "metadata": {},
   "outputs": [],
   "source": [
    "### Compare the expression of these two genes: are they corrolated based on tumor subtypes?\n",
    "### To answer this question, make a graph and calcute correlation coefficients. \n",
    "### Briefly describe your results.\n"
   ]
  },
  {
   "cell_type": "markdown",
   "id": "9bdc21d7-80a9-49e2-b9b4-41de2b4cc61a",
   "metadata": {},
   "source": [
    "## Clustering [20 pts]\n",
    "You are wondering if the M genes considered by your dataset are enough to cluster the N patients by their cancer subtype."
   ]
  },
  {
   "cell_type": "code",
   "execution_count": null,
   "id": "7074c0f5-c49a-4785-b0d0-6bfe6709405a",
   "metadata": {},
   "outputs": [],
   "source": [
    "### Apply the k-means alogirthm to your dataset\n"
   ]
  },
  {
   "cell_type": "code",
   "execution_count": null,
   "id": "99fca5af-162c-4632-9a66-d003a00b040a",
   "metadata": {},
   "outputs": [],
   "source": [
    "### What value of k did you use and why?"
   ]
  },
  {
   "cell_type": "code",
   "execution_count": null,
   "id": "ed6bb17b-b23b-471d-aba5-6b3d637dd805",
   "metadata": {},
   "outputs": [],
   "source": [
    "### Were you able to cluster the patients by cancer subtypes, while considering the expressions of the M genes?\n"
   ]
  }
 ],
 "metadata": {
  "kernelspec": {
   "display_name": "Python (bioinfo-3)",
   "language": "python",
   "name": "bioinfo"
  },
  "language_info": {
   "codemirror_mode": {
    "name": "ipython",
    "version": 3
   },
   "file_extension": ".py",
   "mimetype": "text/x-python",
   "name": "python",
   "nbconvert_exporter": "python",
   "pygments_lexer": "ipython3",
   "version": "3.10.4"
  }
 },
 "nbformat": 4,
 "nbformat_minor": 5
}
